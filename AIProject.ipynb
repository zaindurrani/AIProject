{
  "nbformat": 4,
  "nbformat_minor": 0,
  "metadata": {
    "colab": {
      "provenance": []
    },
    "kernelspec": {
      "name": "python3",
      "display_name": "Python 3"
    },
    "language_info": {
      "name": "python"
    }
  },
  "cells": [
    {
      "cell_type": "code",
      "execution_count": 1,
      "metadata": {
        "id": "XpMYYgWlzuYV"
      },
      "outputs": [],
      "source": [
        "#libraries commonly used in machine learning\n",
        "\n",
        "import numpy as np\n",
        "import pandas as pd\n",
        "import matplotlib.pyplot as plt"
      ]
    },
    {
      "cell_type": "code",
      "source": [
        "#Machine learning libraries\n",
        "\n",
        "from sklearn.model_selection import train_test_split\n",
        "from sklearn.linear_model import LinearRegression\n",
        "from sklearn.linear_model import LogisticRegression\n",
        "from sklearn.tree import DecisionTreeClassifier, DecisionTreeRegressor\n",
        "from sklearn.ensemble import RandomForestClassifier, RandomForestRegressor\n",
        "from sklearn.svm import SVC, SVR\n",
        "from sklearn.neighbors import KNeighborsClassifier, KNeighborsRegressor\n",
        "from sklearn.ensemble import GradientBoostingClassifier,HistGradientBoostingRegressor\n",
        "import seaborn as sns\n",
        "from sklearn.metrics import accuracy_score,precision_score,recall_score,f1_score,mean_squared_error\n",
        "from sklearn.naive_bayes import GaussianNB"
      ],
      "metadata": {
        "id": "g5ekdB1Q0JZ5"
      },
      "execution_count": 2,
      "outputs": []
    }
  ]
}